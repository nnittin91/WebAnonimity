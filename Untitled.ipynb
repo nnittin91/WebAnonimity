{
 "cells": [
  {
   "cell_type": "code",
   "execution_count": 113,
   "metadata": {},
   "outputs": [],
   "source": [
    "from gensim.models import KeyedVectors\n",
    "import spacy\n",
    "import random\n",
    "nlp = spacy.load('en_core_web_sm')    \n",
    "gmodel=KeyedVectors.load_word2vec_format(\"GoogleNews-vectors-negative300.bin\", binary=True)"
   ]
  },
  {
   "cell_type": "code",
   "execution_count": 10,
   "metadata": {},
   "outputs": [
    {
     "name": "stderr",
     "output_type": "stream",
     "text": [
      "C:\\ProgramData\\Anaconda3\\lib\\site-packages\\gensim\\matutils.py:737: FutureWarning: Conversion of the second argument of issubdtype from `int` to `np.signedinteger` is deprecated. In future, it will be treated as `np.int32 == np.dtype(int).type`.\n",
      "  if np.issubdtype(vec.dtype, np.int):\n"
     ]
    },
    {
     "name": "stdout",
     "output_type": "stream",
     "text": [
      "[('burgers', 0.8277538418769836), ('hamburger', 0.7784732580184937), ('cheeseburger', 0.7732071876525879), ('sandwich', 0.7488894462585449), ('burrito', 0.7377750277519226), ('gourmet_burger', 0.7203285694122314), ('chicken_sandwich', 0.6972609758377075), ('bacon_cheeseburger', 0.6913172602653503), ('fries', 0.6894726753234863), ('taco', 0.6799392104148865)]\n"
     ]
    }
   ],
   "source": [
    "ms=gmodel.most_similar('burger')"
   ]
  },
  {
   "cell_type": "code",
   "execution_count": 127,
   "metadata": {},
   "outputs": [],
   "source": [
    "entities = {\"ORDINAL\", \"LOC\", \"DATE\", \"LANGUAGE\", \"NORP\",\"PRODUCT\", \"GPE\"}\n",
    "\n",
    "def changeQuerry(query):\n",
    "    doc = nlp(query)\n",
    "    queryOptions = []\n",
    "\n",
    "    entitiesToReplace = []\n",
    "    \n",
    "    for ent in doc.ents:\n",
    "        entitiesToReplace.append(ent.text)\n",
    "        \n",
    "    for ent in doc:\n",
    "        print(ent.pos_)\n",
    "        if ent.text in entitiesToReplace:\n",
    "            temp = [ent.text]\n",
    "            sim = gmodel.most_similar(ent.text)\n",
    "            for i in sim:\n",
    "                temp.append(i[0])\n",
    "            queryOptions.append(temp)\n",
    "        else:\n",
    "            queryOptions.append([ent.text])\n",
    "       \n",
    "\n",
    "    print (queryOptions)\n",
    "    print (entitiesToReplace)\n",
    "    \n",
    "    queries = []\n",
    "    for i in range(5):\n",
    "        temp = \"\"\n",
    "        for j in queryOptions:\n",
    "            if len(j) == 1:\n",
    "                temp += str(j[0]) + \" \"\n",
    "            else:\n",
    "                index =  random.randint(1, len(j)-1)\n",
    "                temp += str(j[index]) + \" \"\n",
    "                \n",
    "        temp = temp.strip()\n",
    "        queries.append(temp)\n",
    "    \n",
    "    print(queries)\n",
    "        \n",
    "    \n",
    "        \n",
    "    \n",
    "   "
   ]
  },
  {
   "cell_type": "code",
   "execution_count": 133,
   "metadata": {},
   "outputs": [
    {
     "name": "stdout",
     "output_type": "stream",
     "text": [
      "PRON\n",
      "VERB\n",
      "ADP\n",
      "PROPN\n"
     ]
    },
    {
     "name": "stderr",
     "output_type": "stream",
     "text": [
      "C:\\ProgramData\\Anaconda3\\lib\\site-packages\\gensim\\matutils.py:737: FutureWarning: Conversion of the second argument of issubdtype from `int` to `np.signedinteger` is deprecated. In future, it will be treated as `np.int32 == np.dtype(int).type`.\n",
      "  if np.issubdtype(vec.dtype, np.int):\n"
     ]
    },
    {
     "name": "stdout",
     "output_type": "stream",
     "text": [
      "[['I'], ['live'], ['in'], ['NYC', 'Brooklyn', \"B'klyn\", 'S.F.', 'NY', 'Manhattan', 'L.A.', 'New_York', 'NYer', 'Brookyn', 'N.Y.']]\n",
      "['NYC']\n",
      "['I live in L.A.', 'I live in Manhattan', 'I live in N.Y.', 'I live in NY', 'I live in NYer']\n"
     ]
    }
   ],
   "source": [
    "changeQuerry(\"I live in NYC\")"
   ]
  },
  {
   "cell_type": "code",
   "execution_count": null,
   "metadata": {},
   "outputs": [],
   "source": []
  },
  {
   "cell_type": "code",
   "execution_count": null,
   "metadata": {},
   "outputs": [],
   "source": []
  }
 ],
 "metadata": {
  "kernelspec": {
   "display_name": "Python 3",
   "language": "python",
   "name": "python3"
  },
  "language_info": {
   "codemirror_mode": {
    "name": "ipython",
    "version": 3
   },
   "file_extension": ".py",
   "mimetype": "text/x-python",
   "name": "python",
   "nbconvert_exporter": "python",
   "pygments_lexer": "ipython3",
   "version": "3.7.0"
  }
 },
 "nbformat": 4,
 "nbformat_minor": 2
}
